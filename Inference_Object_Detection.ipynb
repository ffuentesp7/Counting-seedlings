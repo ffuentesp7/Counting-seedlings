{
  "nbformat": 4,
  "nbformat_minor": 0,
  "metadata": {
    "colab": {
      "provenance": []
    },
    "kernelspec": {
      "name": "python3",
      "display_name": "Python 3"
    },
    "language_info": {
      "name": "python"
    }
  },
  "cells": [
    {
      "cell_type": "markdown",
      "source": [
        "# Inference about your images"
      ],
      "metadata": {
        "id": "1TARFEqUpZVm"
      }
    },
    {
      "cell_type": "code",
      "execution_count": null,
      "metadata": {
        "id": "zcvFij_upYT-"
      },
      "outputs": [],
      "source": [
        "!pip install tf_slim\n",
        "!pip install tensorflow-io\n",
        "!pip install tf-models-official==2.8.0\n",
        "!pip install avro-python3 \n",
        "!pip install tf_slim==1.1.0\n",
        "!pip install lvis\n",
        "#!pip install tensorflow_io==0.23.1\n",
        "!pip install keras==2.7.0\n",
        "!pip install opencv-python-headless==4.5.2.52\n",
        "\n",
        "#import tensorflow_io as tfio\n",
        "import matplotlib.pyplot as plt\n",
        "import pandas as pd\n",
        "import os\n",
        "import io\n",
        "import tensorflow as tf\n",
        "\n",
        "\n"
      ]
    },
    {
      "cell_type": "code",
      "source": [
        "%cd /content\n",
        "!git clone --quiet https://github.com/tensorflow/models.git\n",
        "%cd /content/models/\n",
        "#!git checkout 58d19c67e1d30d905dd5c6e5092348658fed80af\n",
        "!apt-get update && apt-get install -y -qq protobuf-compiler python-pil python-lxml python-tk\n",
        "!pip install -q Cython contextlib2 pillow lxml matplotlib\n",
        "!pip install -q pycocotools\n",
        "%cd /content/models/research\n",
        "!protoc object_detection/protos/*.proto --python_out=.\n",
        "os.environ['PYTHONPATH'] += ':/content/models/research/:/content/models/research/slim/'\n",
        "!python object_detection/builders/model_builder_test.py"
      ],
      "metadata": {
        "id": "kyvl6oKHwWrF"
      },
      "execution_count": null,
      "outputs": []
    },
    {
      "cell_type": "code",
      "source": [
        "import zipfile\n",
        "zip_ref = zipfile.ZipFile(\"/content/fine_tuned_model.zip\", 'r')\n",
        "zip_ref.extractall(\"/content/fine_tuned_model\")\n",
        "zip_ref.close()"
      ],
      "metadata": {
        "id": "dRV-ogEFp4e6"
      },
      "execution_count": null,
      "outputs": []
    },
    {
      "cell_type": "markdown",
      "source": [
        "# generate inference about your model like visual form"
      ],
      "metadata": {
        "id": "s6YWthdxuxsd"
      }
    },
    {
      "cell_type": "code",
      "source": [
        "from object_detection.utils import label_map_util\n",
        "from object_detection.utils import visualization_utils as viz_utils\n",
        "import tensorflow as tf\n",
        "import numpy as np\n",
        "\n",
        "PATH_TO_MODEL_DIR = \"path of your train model\"\n",
        "PATH_TO_SAVE_MODEL = PATH_TO_MODEL_DIR + \"/saved_model\"\n",
        "\n",
        "detect_fn = tf.saved_model.load(PATH_TO_SAVE_MODEL)"
      ],
      "metadata": {
        "id": "O68yaDMeq7Ua"
      },
      "execution_count": null,
      "outputs": []
    },
    {
      "cell_type": "code",
      "source": [
        "label_map_pbtxt_fname = \"path of your labelMap file\"\n",
        "category_index = label_map_util.create_category_index_from_labelmap(label_map_pbtxt_fname)"
      ],
      "metadata": {
        "id": "DUtfllz10O9v"
      },
      "execution_count": null,
      "outputs": []
    },
    {
      "cell_type": "code",
      "source": [
        "from PIL import Image\n",
        "import matplotlib.pyplot as plt\n",
        "from google.colab.patches import cv2_imshow\n",
        "\n",
        "image_path = \"path of your image test\"\n",
        "\n",
        "image_test = Image.open(image_path)\n",
        "\n",
        "#image_np = np.array(image_test.resize((1024,1024)))\n",
        "\n",
        "input_tensor = tf.convert_to_tensor(image_np)\n",
        "input_tensor = input_tensor[tf.newaxis, ...]\n",
        "detections = detect_fn(input_tensor)"
      ],
      "metadata": {
        "id": "FqaafpVF0yC7"
      },
      "execution_count": null,
      "outputs": []
    },
    {
      "cell_type": "code",
      "source": [
        "num_detections = int(detections.pop('num_detections'))\n",
        "\n",
        "detections = {key: value[0,: num_detections].numpy() for key, value in detections.items()} \n",
        "\n",
        "detections['num_detections'] = num_detections\n",
        "\n",
        "detections['detection_classes'] = detections['detection_classes'].astype(np.int64)\n",
        "\n",
        "image_np_with_detections = image_np.copy()\n",
        "\n",
        "viz_utils.visualize_boxes_and_labels_on_image_array(\n",
        "    image_np_with_detections,\n",
        "    detections['detection_boxes'],\n",
        "    detections['detection_classes'],\n",
        "    detections['detection_scores'],\n",
        "    category_index,\n",
        "    max_boxes_to_draw=500,\n",
        "    min_score_thresh=0.4,\n",
        "    use_normalized_coordinates= True\n",
        ")\n",
        "\n",
        "\n",
        "cv2_imshow(image_np_with_detections)\n",
        "\n",
        "\n",
        "threshold = 0.4\n",
        "detection_count = 0\n",
        "\n",
        "for i, (y_min, x_min, y_max, x_max) in enumerate(detections['detection_boxes']):\n",
        "  # validates if score has a acceptable value and if its class match with expected class\n",
        "  if detections['detection_scores'][i] > threshold and (\"cultivo\" == None or category_index[detections['detection_classes'][i]]['name'] in \"cultivo\"):\n",
        "    detection_count += 1\n",
        "\n",
        "print(detection_count)"
      ],
      "metadata": {
        "id": "jKiHe5GS1uqr"
      },
      "execution_count": null,
      "outputs": []
    }
  ]
}