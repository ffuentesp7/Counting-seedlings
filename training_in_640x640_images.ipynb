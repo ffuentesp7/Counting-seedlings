{
  "nbformat": 4,
  "nbformat_minor": 0,
  "metadata": {
    "colab": {
      "provenance": [],
      "collapsed_sections": [
        "Ag6ywVNFFKrz",
        "66rZlaGfFpK5",
        "9FBP0W44GO_t"
      ],
      "machine_shape": "hm"
    },
    "kernelspec": {
      "name": "python3",
      "display_name": "Python 3"
    },
    "language_info": {
      "name": "python"
    },
    "accelerator": "GPU",
    "gpuClass": "standard"
  },
  "cells": [
    {
      "cell_type": "markdown",
      "source": [
        "\n",
        "#Install the libraries"
      ],
      "metadata": {
        "id": "ohhNnzhYCxEM"
      }
    },
    {
      "cell_type": "code",
      "source": [
        "!pip install tf_slim\n",
        "!pip install roboflow\n",
        "!pip install tensorflow-io\n",
        "!pip install tf-models-official==2.8.0\n",
        "!pip install avro-python3 \n",
        "!pip install tf_slim==1.1.0\n",
        "!pip install lvis\n",
        "!pip install tensorflow_io==0.23.1\n",
        "!pip install keras==2.7.0\n",
        "!pip install opencv-python-headless==4.5.2.52\n",
        "\n",
        "import tensorflow_io as tfio\n",
        "import matplotlib.pyplot as plt\n",
        "import pandas as pd\n",
        "import os\n",
        "import io\n",
        "import tensorflow as tf\n",
        "import sys\n",
        "import pickle\n",
        "import zipfile\n",
        "import shutil\n",
        "\n",
        "from roboflow import Roboflow"
      ],
      "metadata": {
        "id": "qsHvqzCXCzaX"
      },
      "execution_count": null,
      "outputs": []
    },
    {
      "cell_type": "markdown",
      "source": [
        "# Upload images from Roboflow"
      ],
      "metadata": {
        "id": "rJY-apUODKHW"
      }
    },
    {
      "cell_type": "code",
      "source": [
        "rf = Roboflow(api_key=\"your-api_key\")\n",
        "project = rf.workspace(\"workspace-dir-roboflow\").project(\"your-project-name-roboflow\")\n",
        "dataset = project.version(8).download(\"tensorflow\")"
      ],
      "metadata": {
        "id": "Hi_RxPAMDMdF"
      },
      "execution_count": null,
      "outputs": []
    },
    {
      "cell_type": "markdown",
      "source": [
        "# Install the Object Detection library\n",
        "\n",
        "\n",
        "\n"
      ],
      "metadata": {
        "id": "bYR1g2qnDYXu"
      }
    },
    {
      "cell_type": "code",
      "source": [
        "%cd /content\n",
        "!git clone --quiet https://github.com/tensorflow/models.git\n",
        "%cd /content/models/\n",
        "#!git checkout 58d19c67e1d30d905dd5c6e5092348658fed80af\n",
        "!apt-get update && apt-get install -y -qq protobuf-compiler python-pil python-lxml python-tk\n",
        "!pip install -q Cython contextlib2 pillow lxml matplotlib\n",
        "!pip install -q pycocotools\n",
        "%cd /content/models/research\n",
        "!protoc object_detection/protos/*.proto --python_out=.\n",
        "os.environ['PYTHONPATH'] += ':/content/models/research/:/content/models/research/slim/'\n",
        "!python object_detection/builders/model_builder_test.py"
      ],
      "metadata": {
        "id": "HpWlCChLDT4O"
      },
      "execution_count": null,
      "outputs": []
    },
    {
      "cell_type": "markdown",
      "source": [
        "# Conversion of Roboflow CSV files to TFrecord"
      ],
      "metadata": {
        "id": "BSuF0MnUDgJW"
      }
    },
    {
      "cell_type": "code",
      "source": [
        "records_fname = ['valid', 'train']"
      ],
      "metadata": {
        "id": "VvMp9__ODk62"
      },
      "execution_count": null,
      "outputs": []
    },
    {
      "cell_type": "code",
      "source": [
        "from __future__ import division\n",
        "from __future__ import print_function\n",
        "from __future__ import absolute_import\n",
        "\n",
        "sys.path.append(\"../../models/research\")\n",
        "\n",
        "from PIL import Image\n",
        "from object_detection.utils import dataset_util\n",
        "from collections import namedtuple, OrderedDict\n",
        "\n",
        "# TO-DO replace this with label map\n",
        "# for multiple labels add more else if statements\n",
        "def class_text_to_int(row_label):\n",
        "    if row_label == 'cultivo':  # 'ship':\n",
        "        return 1\n",
        "    else:\n",
        "        None\n",
        "\n",
        "def split(df, group):\n",
        "    data = namedtuple('data', ['filename', 'object'])\n",
        "    gb = df.groupby(group)\n",
        "    return [data(filename, gb.get_group(x)) for filename, x in zip(gb.groups.keys(), gb.groups)]\n",
        "\n",
        "\n",
        "def create_tf_example1(group, path):\n",
        "     ruta = os.path.join(path, '{}'.format(group.filename))\n",
        "     print(ruta)\n",
        "\n",
        "def create_tf_example(group, path):\n",
        "    with tf.io.gfile.GFile(os.path.join(path, '{}'.format(group.filename)), 'rb') as fid:\n",
        "        encoded_jpg = fid.read()\n",
        "    encoded_jpg_io = io.BytesIO(encoded_jpg)\n",
        "    image = Image.open(encoded_jpg_io)\n",
        "    width, height = image.size\n",
        "\n",
        "    filename = group.filename.encode('utf8')\n",
        "    image_format = b'png'\n",
        "    # check if the image format is matching with your images.\n",
        "    xmins = []\n",
        "    xmaxs = []\n",
        "    ymins = []\n",
        "    ymaxs = []\n",
        "    classes_text = []\n",
        "    classes = []\n",
        "\n",
        "    for index, row in group.object.iterrows():\n",
        "        xmins.append(row['xmin'] / width)\n",
        "        xmaxs.append(row['xmax'] / width)\n",
        "        ymins.append(row['ymin'] / height)\n",
        "        ymaxs.append(row['ymax'] / height)\n",
        "        classes_text.append(row['class'].encode('utf8'))\n",
        "        classes.append(class_text_to_int(row['class']))\n",
        "\n",
        "    tf_example = tf.train.Example(features=tf.train.Features(feature={\n",
        "        'image/height': dataset_util.int64_feature(height),\n",
        "        'image/width': dataset_util.int64_feature(width),\n",
        "        'image/filename': dataset_util.bytes_feature(filename),\n",
        "        'image/source_id': dataset_util.bytes_feature(filename),\n",
        "        'image/encoded': dataset_util.bytes_feature(encoded_jpg),\n",
        "        'image/format': dataset_util.bytes_feature(image_format),\n",
        "        'image/object/bbox/xmin': dataset_util.float_list_feature(xmins),\n",
        "        'image/object/bbox/xmax': dataset_util.float_list_feature(xmaxs),\n",
        "        'image/object/bbox/ymin': dataset_util.float_list_feature(ymins),\n",
        "        'image/object/bbox/ymax': dataset_util.float_list_feature(ymaxs),\n",
        "        'image/object/class/text': dataset_util.bytes_list_feature(classes_text),\n",
        "        'image/object/class/label': dataset_util.int64_list_feature(classes),\n",
        "    }))\n",
        "    return tf_example"
      ],
      "metadata": {
        "id": "0afudPfZDnLC"
      },
      "execution_count": null,
      "outputs": []
    },
    {
      "cell_type": "code",
      "source": [
        "for record in records_fname:\n",
        "  output_path = record+\".record\"\n",
        "  image_dir = dataset.location+\"/\"+record+\"/\"\n",
        "  csv_input = image_dir+\"_annotations.csv\"\n",
        "\n",
        "  writer = tf.io.TFRecordWriter(output_path)\n",
        "  path = os.path.join(image_dir)\n",
        "  examples = pd.read_csv(csv_input)\n",
        "  grouped = split(examples, 'filename')\n",
        "  for group in grouped:\n",
        "    tf_example = create_tf_example(group, path)\n",
        "    writer.write(tf_example.SerializeToString())\n",
        "\n",
        "  writer.close()\n",
        "  output_path = os.path.join(os.getcwd(), output_path)\n",
        "  print('Successfully created the TFRecords: {}'.format(output_path))"
      ],
      "metadata": {
        "id": "ipd7RJIoDrgC"
      },
      "execution_count": null,
      "outputs": []
    },
    {
      "cell_type": "markdown",
      "source": [
        "# Loading Tensorflow 2 Detection Model Zoo Models"
      ],
      "metadata": {
        "id": "Nl7JdWM_D97Q"
      }
    },
    {
      "cell_type": "code",
      "source": [
        "# the labelmap file is created, which allows us to obtain the classes for detection\n",
        "%cd /content\n",
        "\n",
        "labels = [{'name': 'cultivo', 'id': 1}]\n",
        "with open(\"label_map.pbtxt\", \"w\") as f:\n",
        "  for label in labels:\n",
        "    f.write('item {\\n')\n",
        "    f.write('\\tname:\\'{}\\'\\n'.format(label['name']))\n",
        "    f.write('\\tid:{}\\n'.format(label['id']))\n",
        "    f.write('}\\n')"
      ],
      "metadata": {
        "id": "3m9crhRBEF2K"
      },
      "execution_count": null,
      "outputs": []
    },
    {
      "cell_type": "markdown",
      "source": [
        "#### SSD MobileNet V2 FPNLite"
      ],
      "metadata": {
        "id": "avJJrK4tEYCC"
      }
    },
    {
      "cell_type": "code",
      "source": [
        "!wget --no-check-certificate http://download.tensorflow.org/models/object_detection/tf2/20200711/ssd_mobilenet_v2_fpnlite_640x640_coco17_tpu-8.tar.gz \\\n",
        "-O /content/ssd_mobilenet_v2_fpnlite_640x640_coco17_tpu-8.tar.gz"
      ],
      "metadata": {
        "id": "FiObzkEBEY5V"
      },
      "execution_count": null,
      "outputs": []
    },
    {
      "cell_type": "code",
      "source": [
        "!tar -zxvf /content/ssd_mobilenet_v2_fpnlite_640x640_coco17_tpu-8.tar.gz\n",
        "output_path_mobilenet = 'ssd_mobilenet_v2_fpnlite_640x640_coco17_tpu-8'\n",
        "output_path_mobilenet = os.path.join(os.getcwd(), output_path_mobilenet)\n",
        "print(\"The folder is stored in {}\".format(output_path_mobilenet))"
      ],
      "metadata": {
        "id": "wlhQS-aeEkUB"
      },
      "execution_count": null,
      "outputs": []
    },
    {
      "cell_type": "markdown",
      "source": [
        "### EfficientDet D1"
      ],
      "metadata": {
        "id": "NVno2NHqEp-i"
      }
    },
    {
      "cell_type": "code",
      "source": [
        "!wget --no-check-certificate http://download.tensorflow.org/models/object_detection/tf2/20200711/efficientdet_d1_coco17_tpu-32.tar.gz \\\n",
        "-O /content/efficientdet_d1_coco17_tpu-32.tar.gz"
      ],
      "metadata": {
        "id": "hN-6sXVvErP2"
      },
      "execution_count": null,
      "outputs": []
    },
    {
      "cell_type": "code",
      "source": [
        "!tar -zxvf /content/efficientdet_d1_coco17_tpu-32.tar.gz\n",
        "output_path_efficientdet = 'efficientdet_d1_coco17_tpu-32'\n",
        "output_path_efficientdet = os.path.join(os.getcwd(), output_path_efficientdet)\n",
        "print(\"The folder is stored in {}\".format(output_path_efficientdet))"
      ],
      "metadata": {
        "id": "-o51L171EtGE"
      },
      "execution_count": null,
      "outputs": []
    },
    {
      "cell_type": "markdown",
      "source": [
        "### SSD ResNet152 V1 FPN (RetinaNet152)"
      ],
      "metadata": {
        "id": "XwQ9tiIlEvqP"
      }
    },
    {
      "cell_type": "code",
      "source": [
        "!wget --no-check-certificate http://download.tensorflow.org/models/object_detection/tf2/20200711/ssd_resnet152_v1_fpn_640x640_coco17_tpu-8.tar.gz \\\n",
        "-O /content/ssd_resnet152_v1_fpn_640x640_coco17_tpu-8.tar.gz"
      ],
      "metadata": {
        "id": "RYe0_SE6EyWf"
      },
      "execution_count": null,
      "outputs": []
    },
    {
      "cell_type": "code",
      "source": [
        "!tar -zxvf /content/ssd_resnet152_v1_fpn_640x640_coco17_tpu-8.tar.gz\n",
        "output_path_resnet = 'ssd_resnet152_v1_fpn_640x640_coco17_tpu-8'\n",
        "output_path_resnet = os.path.join(os.getcwd(), output_path_resnet)\n",
        "print(\"The folder is stored in {}\".format(output_path_resnet))"
      ],
      "metadata": {
        "id": "mIKicd27Ez-o"
      },
      "execution_count": null,
      "outputs": []
    },
    {
      "cell_type": "markdown",
      "source": [
        "# Configuration of the pipeling.config file for each loaded model"
      ],
      "metadata": {
        "id": "IDgyUd2nFBBH"
      }
    },
    {
      "cell_type": "code",
      "source": [
        "from object_detection.utils import config_util\n",
        "from object_detection.protos import pipeline_pb2\n",
        "from google.protobuf import text_format"
      ],
      "metadata": {
        "id": "O7H0EReYFDfs"
      },
      "execution_count": null,
      "outputs": []
    },
    {
      "cell_type": "code",
      "source": [
        "path_training = 'path-load-models'\n",
        "os.mkdir(path_training)"
      ],
      "metadata": {
        "id": "_zw6xALxFEV_"
      },
      "execution_count": null,
      "outputs": []
    },
    {
      "cell_type": "code",
      "source": [
        "label_map_pbtxt_fname = \"path-labelmap-file\"\n",
        "train_record_fname = \"path-train-record-file\"\n",
        "test_record_fname = \"path-valid-record-file\""
      ],
      "metadata": {
        "id": "T3KU7r4LFGBR"
      },
      "execution_count": null,
      "outputs": []
    },
    {
      "cell_type": "markdown",
      "source": [
        "#### Configuration SSD MobileNet"
      ],
      "metadata": {
        "id": "Ag6ywVNFFKrz"
      }
    },
    {
      "cell_type": "code",
      "source": [
        "os.mkdir(path_training+\"/mobilenet\")\n",
        "source_config_mobilenet = \"{}/pipeline.config\".format(output_path_mobilenet)\n",
        "target_config_mobilenet = \"{}/pipeline.config\".format(path_training+\"/mobilenet\")\n",
        "shutil.copy(source_config_mobilenet, target_config_mobilenet)"
      ],
      "metadata": {
        "id": "h7G2bwsQFLD7",
        "colab": {
          "base_uri": "https://localhost:8080/",
          "height": 36
        },
        "outputId": "5108bf8d-20bf-4995-f144-1da0d79447b3"
      },
      "execution_count": null,
      "outputs": [
        {
          "output_type": "execute_result",
          "data": {
            "text/plain": [
              "'/content/modelos/mobilenet/pipeline.config'"
            ],
            "application/vnd.google.colaboratory.intrinsic+json": {
              "type": "string"
            }
          },
          "metadata": {},
          "execution_count": 17
        }
      ]
    },
    {
      "cell_type": "code",
      "source": [
        "config_mobilenet = config_util.get_configs_from_pipeline_file(target_config_mobilenet)\n",
        "\n",
        "pipeline_config = pipeline_pb2.TrainEvalPipelineConfig()\n",
        "with tf.io.gfile.GFile(target_config_mobilenet, \"r\") as f:\n",
        "  proto_str = f.read()\n",
        "  text_format.Merge(proto_str, pipeline_config)"
      ],
      "metadata": {
        "id": "bYGssCjLFNV6"
      },
      "execution_count": null,
      "outputs": []
    },
    {
      "cell_type": "code",
      "source": [
        "pipeline_config"
      ],
      "metadata": {
        "id": "aEAzuEGFFPV-"
      },
      "execution_count": null,
      "outputs": []
    },
    {
      "cell_type": "code",
      "source": [
        "pipeline_config.model.ssd.num_classes = 1\n",
        "pipeline_config.train_config.batch_size = 4\n",
        "pipeline_config.train_config.fine_tune_checkpoint = \"{}/checkpoint/ckpt-0\".format(output_path_mobilenet)\n",
        "pipeline_config.train_config.fine_tune_checkpoint_type = \"detection\"\n",
        "pipeline_config.train_input_reader.label_map_path = label_map_pbtxt_fname\n",
        "pipeline_config.train_input_reader.tf_record_input_reader.input_path[0] = train_record_fname\n",
        "pipeline_config.eval_input_reader[0].label_map_path = label_map_pbtxt_fname\n",
        "pipeline_config.eval_input_reader[0].tf_record_input_reader.input_path[0] = test_record_fname"
      ],
      "metadata": {
        "id": "tjXMf5N6FRF-"
      },
      "execution_count": null,
      "outputs": []
    },
    {
      "cell_type": "code",
      "source": [
        "pipeline_config"
      ],
      "metadata": {
        "id": "Q41oPAR3FTlx"
      },
      "execution_count": null,
      "outputs": []
    },
    {
      "cell_type": "code",
      "source": [
        "config_text = text_format.MessageToString(pipeline_config)\n",
        "with tf.io.gfile.GFile(target_config_mobilenet, \"wb\") as f:\n",
        "  f.write(config_text)"
      ],
      "metadata": {
        "id": "-9aEEwJgFU-2"
      },
      "execution_count": null,
      "outputs": []
    },
    {
      "cell_type": "markdown",
      "source": [
        "#### Configuration EfficientDet"
      ],
      "metadata": {
        "id": "WEMcerr8FYnH"
      }
    },
    {
      "cell_type": "code",
      "source": [
        "os.mkdir(path_training+\"/efficientdet\")\n",
        "source_config_efficientdet = \"{}/pipeline.config\".format(output_path_efficientdet)\n",
        "target_config_efficientdet = \"{}/pipeline.config\".format(path_training+\"/efficientdet\")\n",
        "shutil.copy(source_config_efficientdet, target_config_efficientdet)"
      ],
      "metadata": {
        "id": "hm7p4QU-FajI"
      },
      "execution_count": null,
      "outputs": []
    },
    {
      "cell_type": "code",
      "source": [
        "config_efficientdet = config_util.get_configs_from_pipeline_file(target_config_efficientdet)\n",
        "\n",
        "pipeline_config = pipeline_pb2.TrainEvalPipelineConfig()\n",
        "with tf.io.gfile.GFile(target_config_efficientdet, \"r\") as f:\n",
        "  proto_str = f.read()\n",
        "  text_format.Merge(proto_str, pipeline_config)"
      ],
      "metadata": {
        "id": "ItbBg_3KFcut"
      },
      "execution_count": null,
      "outputs": []
    },
    {
      "cell_type": "code",
      "source": [
        "pipeline_config"
      ],
      "metadata": {
        "id": "vB2PefFrFer1"
      },
      "execution_count": null,
      "outputs": []
    },
    {
      "cell_type": "code",
      "source": [
        "pipeline_config.model.ssd.num_classes = 1\n",
        "pipeline_config.train_config.batch_size = 4\n",
        "pipeline_config.train_config.fine_tune_checkpoint = \"{}/checkpoint/ckpt-0\".format(output_path_efficientdet)\n",
        "pipeline_config.train_config.fine_tune_checkpoint_type = \"detection\"\n",
        "pipeline_config.train_input_reader.label_map_path = label_map_pbtxt_fname\n",
        "pipeline_config.train_input_reader.tf_record_input_reader.input_path[0] = train_record_fname\n",
        "pipeline_config.eval_input_reader[0].label_map_path = label_map_pbtxt_fname\n",
        "pipeline_config.eval_input_reader[0].tf_record_input_reader.input_path[0] = test_record_fname"
      ],
      "metadata": {
        "id": "qZ8NsybVFgL-"
      },
      "execution_count": null,
      "outputs": []
    },
    {
      "cell_type": "code",
      "source": [
        "pipeline_config"
      ],
      "metadata": {
        "id": "9_8z9E02FjW7"
      },
      "execution_count": null,
      "outputs": []
    },
    {
      "cell_type": "code",
      "source": [
        "config_text = text_format.MessageToString(pipeline_config)\n",
        "with tf.io.gfile.GFile(target_config_efficientdet, \"wb\") as f:\n",
        "  f.write(config_text)"
      ],
      "metadata": {
        "id": "3BKGytJvFoGB"
      },
      "execution_count": null,
      "outputs": []
    },
    {
      "cell_type": "markdown",
      "source": [
        "#### Configuration SSD ResNet152"
      ],
      "metadata": {
        "id": "66rZlaGfFpK5"
      }
    },
    {
      "cell_type": "code",
      "source": [
        "os.mkdir(path_training+\"/resnet\")\n",
        "source_config_resnet = \"{}/pipeline.config\".format(output_path_resnet)\n",
        "target_config_resnet = \"{}/pipeline.config\".format(path_training+\"/resnet\")\n",
        "shutil.copy(source_config_resnet, target_config_resnet)"
      ],
      "metadata": {
        "id": "ulGrZoFzFrp4"
      },
      "execution_count": null,
      "outputs": []
    },
    {
      "cell_type": "code",
      "source": [
        "config_resnet = config_util.get_configs_from_pipeline_file(target_config_resnet)\n",
        "\n",
        "pipeline_config = pipeline_pb2.TrainEvalPipelineConfig()\n",
        "with tf.io.gfile.GFile(target_config_resnet, \"r\") as f:\n",
        "  proto_str = f.read()\n",
        "  text_format.Merge(proto_str, pipeline_config)"
      ],
      "metadata": {
        "id": "UugwVH-EFtcG"
      },
      "execution_count": null,
      "outputs": []
    },
    {
      "cell_type": "code",
      "source": [
        "pipeline_config"
      ],
      "metadata": {
        "id": "xYVvrWz3Fu_d"
      },
      "execution_count": null,
      "outputs": []
    },
    {
      "cell_type": "code",
      "source": [
        "pipeline_config.model.ssd.num_classes = 1\n",
        "pipeline_config.train_config.batch_size = 4\n",
        "pipeline_config.train_config.fine_tune_checkpoint = \"{}/checkpoint/ckpt-0\".format(output_path_resnet)\n",
        "pipeline_config.train_config.fine_tune_checkpoint_type = \"detection\"\n",
        "pipeline_config.train_input_reader.label_map_path = label_map_pbtxt_fname\n",
        "pipeline_config.train_input_reader.tf_record_input_reader.input_path[0] = train_record_fname\n",
        "pipeline_config.eval_input_reader[0].label_map_path = label_map_pbtxt_fname\n",
        "pipeline_config.eval_input_reader[0].tf_record_input_reader.input_path[0] = test_record_fname"
      ],
      "metadata": {
        "id": "QjNDYFddFwXO"
      },
      "execution_count": null,
      "outputs": []
    },
    {
      "cell_type": "code",
      "source": [
        "pipeline_config"
      ],
      "metadata": {
        "id": "nW2dFyx0Fy7c"
      },
      "execution_count": null,
      "outputs": []
    },
    {
      "cell_type": "code",
      "source": [
        "config_text = text_format.MessageToString(pipeline_config)\n",
        "with tf.io.gfile.GFile(target_config_resnet, \"wb\") as f:\n",
        "  f.write(config_text)"
      ],
      "metadata": {
        "id": "14DbTZ10F2Xx"
      },
      "execution_count": null,
      "outputs": []
    },
    {
      "cell_type": "markdown",
      "source": [
        "# Model training "
      ],
      "metadata": {
        "id": "BHwfScwaGJa3"
      }
    },
    {
      "cell_type": "code",
      "source": [
        "path_training = '/content/entrenamientos'\n",
        "os.mkdir(path_training)"
      ],
      "metadata": {
        "id": "Aw6FTWLiGKD7"
      },
      "execution_count": null,
      "outputs": []
    },
    {
      "cell_type": "markdown",
      "source": [
        "##### SSD MobileNet"
      ],
      "metadata": {
        "id": "9FBP0W44GO_t"
      }
    },
    {
      "cell_type": "code",
      "source": [
        "model_dir_mobilenet = path_training+\"/mobilenet\"\n",
        "num_step = 20000\n",
        "\n",
        "!python /content/models/research/object_detection/model_main_tf2.py \\\n",
        "--pipeline_config_path={target_config_mobilenet} \\\n",
        "--model_dir={model_dir_mobilenet} \\\n",
        "--num_train_steps={num_step} \\\n",
        "--eval_on_train_data=True\n"
      ],
      "metadata": {
        "id": "6RPpx_qPGMzI"
      },
      "execution_count": null,
      "outputs": []
    },
    {
      "cell_type": "code",
      "source": [
        "%load_ext tensorboard\n",
        "%tensorboard --logdir '/content/entrenamientos/mobilenet'"
      ],
      "metadata": {
        "id": "EO0pqAb-870C"
      },
      "execution_count": null,
      "outputs": []
    },
    {
      "cell_type": "code",
      "source": [
        "output_directory_ssdmobilenet = \"/content/fine_tuned_mobilenet\"\n",
        "\n",
        "!python /content/models/research/object_detection/exporter_main_v2.py \\\n",
        "--input_type image_tensor \\\n",
        "--pipeline_config_path {target_config_mobilenet} \\\n",
        "--trained_checkpoint_dir {model_dir_mobilenet} \\\n",
        "--output_directory {output_directory_ssdmobilenet}"
      ],
      "metadata": {
        "id": "CrEgzaBU5u40"
      },
      "execution_count": null,
      "outputs": []
    },
    {
      "cell_type": "code",
      "source": [
        "!zip -r /content/fine_tuned_mobilenet.zip /content/fine_tuned_mobilenet"
      ],
      "metadata": {
        "id": "ZeEt86T47gV8"
      },
      "execution_count": null,
      "outputs": []
    },
    {
      "cell_type": "markdown",
      "source": [
        "##### EfficientDet"
      ],
      "metadata": {
        "id": "NBjzbedXGUTo"
      }
    },
    {
      "cell_type": "code",
      "source": [
        "model_dir_efficientdet = path_training+\"/efficientdet\"\n",
        "os.mkdir(model_dir_efficientdet)\n",
        "\n",
        "num_step = 20000\n",
        "\n",
        "!python /content/models/research/object_detection/model_main_tf2.py \\\n",
        "--pipeline_config_path={target_config_efficientdet} \\\n",
        "--model_dir={model_dir_efficientdet} \\\n",
        "--num_train_steps={num_step} \\\n",
        "--eval_on_train_data=True\n",
        "\n"
      ],
      "metadata": {
        "id": "dT-xTXijGdZh"
      },
      "execution_count": null,
      "outputs": []
    },
    {
      "cell_type": "code",
      "source": [
        "%load_ext tensorboard\n",
        "%tensorboard --logdir '/content/entrenamientos/efficientdet'"
      ],
      "metadata": {
        "id": "nHJgtXc470-c"
      },
      "execution_count": null,
      "outputs": []
    },
    {
      "cell_type": "code",
      "source": [
        "output_directory_efficientdet = \"/content/fine_tuned_efficientdet\"\n",
        "\n",
        "!python /content/models/research/object_detection/exporter_main_v2.py \\\n",
        "--input_type image_tensor \\\n",
        "--pipeline_config_path {target_config_efficientdet} \\\n",
        "--trained_checkpoint_dir {model_dir_efficientdet} \\\n",
        "--output_directory {output_directory_efficientdet}"
      ],
      "metadata": {
        "id": "TYIWanTS8Ef6"
      },
      "execution_count": null,
      "outputs": []
    },
    {
      "cell_type": "code",
      "source": [
        "!zip -r /content/fine_tuned_efficientdet.zip /content/fine_tuned_efficientdet"
      ],
      "metadata": {
        "id": "o4Ti2sw28Xif"
      },
      "execution_count": null,
      "outputs": []
    },
    {
      "cell_type": "markdown",
      "source": [
        "#### SSD ResNet152"
      ],
      "metadata": {
        "id": "44B-r-ujGnMK"
      }
    },
    {
      "cell_type": "code",
      "source": [
        "model_dir_resnet = path_training+\"/resnet\"\n",
        "os.mkdir(model_dir_resnet)\n",
        "\n",
        "num_step = 20000\n",
        "\n",
        "!python /content/models/research/object_detection/model_main_tf2.py \\\n",
        "--pipeline_config_path={target_config_resnet} \\\n",
        "--model_dir={model_dir_resnet} \\\n",
        "--num_train_steps={num_step} \\\n",
        "--eval_on_train_data=True"
      ],
      "metadata": {
        "id": "5MqwnhEbGqkw"
      },
      "execution_count": null,
      "outputs": []
    },
    {
      "cell_type": "code",
      "source": [
        "%load_ext tensorboard\n",
        "%tensorboard --logdir '/content/entrenamientos/resnet'"
      ],
      "metadata": {
        "id": "ORTB5boB3cMW"
      },
      "execution_count": null,
      "outputs": []
    },
    {
      "cell_type": "code",
      "source": [
        "output_directory_resnet = \"/content/fine_tuned_resnet\"\n",
        "\n",
        "!python /content/models/research/object_detection/exporter_main_v2.py \\\n",
        "--input_type image_tensor \\\n",
        "--pipeline_config_path {target_config_resnet} \\\n",
        "--trained_checkpoint_dir {model_dir_resnet} \\\n",
        "--output_directory {output_directory_resnet}"
      ],
      "metadata": {
        "id": "CPwLJuR_8vBy"
      },
      "execution_count": null,
      "outputs": []
    },
    {
      "cell_type": "code",
      "source": [
        "!zip -r /content/fine_tuned_resnet.zip /content/fine_tuned_resnet"
      ],
      "metadata": {
        "id": "NFpIFy4Y4rdX"
      },
      "execution_count": null,
      "outputs": []
    }
  ]
}